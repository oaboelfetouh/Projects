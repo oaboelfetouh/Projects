{
 "cells": [
  {
   "cell_type": "code",
   "execution_count": null,
   "metadata": {},
   "outputs": [],
   "source": [
    "from pytube import YouTube\n",
    "\n",
    "videoUrl = str(input(\"Enter videoUrl\"))\n",
    "print(\"Select 1 if you want to download video or select 2 to download audio only\")\n",
    "\n",
    "def downloadVideo(res_ = '720p'):\n",
    "    yt = YouTube(videoUrl)\n",
    "    (yt.streams.filter(progressive=True).filter(res=res_).first().download())\n",
    "    print(yt.streams)\n",
    "   \n",
    "def downloadAudio():\n",
    "    yt=YouTube(videoUrl)\n",
    "    (yt.streams.filter(only_audio=True).first().download())\n",
    "    print(\"Download finished successfully\")\n",
    "    \n",
    "userChoice =int(input())\n",
    "if userChoice == 1:\n",
    "    downloadVideo()\n",
    "   \n",
    "elif userChoice == 2:\n",
    "    downloadAudio()\n",
    "else:\n",
    "    print(\"Invalid input\")"
   ]
  },
  {
   "cell_type": "code",
   "execution_count": null,
   "metadata": {},
   "outputs": [],
   "source": [
    "from pytube import YouTube\n",
    "\n",
    "link = input(\"inter your video link: \")\n",
    "\n",
    "yt = YouTube(link)  \n",
    "\n",
    "try:\n",
    "    yt.streams.filter(progressive = True, \n",
    "file_extension = \"mp4\").first().download( \n",
    "filename = \"Reiner and Bertholdt Transformation scene\")\n",
    "except:\n",
    "    print(\"Some Error!\")\n",
    "print('Task Completed!')"
   ]
  }
 ],
 "metadata": {
  "kernelspec": {
   "display_name": "Python 3",
   "language": "python",
   "name": "python3"
  },
  "language_info": {
   "codemirror_mode": {
    "name": "ipython",
    "version": 3
   },
   "file_extension": ".py",
   "mimetype": "text/x-python",
   "name": "python",
   "nbconvert_exporter": "python",
   "pygments_lexer": "ipython3",
   "version": "3.8.5"
  }
 },
 "nbformat": 4,
 "nbformat_minor": 4
}
